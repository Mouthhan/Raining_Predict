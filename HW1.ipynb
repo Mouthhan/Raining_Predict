{
 "cells": [
  {
   "cell_type": "code",
   "execution_count": null,
   "metadata": {},
   "outputs": [],
   "source": []
  },
  {
   "cell_type": "code",
   "execution_count": 51,
   "metadata": {},
   "outputs": [
    {
     "name": "stderr",
     "output_type": "stream",
     "text": [
      "C:\\Users\\Mouth\\Anaconda3\\lib\\site-packages\\pandas\\core\\indexing.py:494: SettingWithCopyWarning: \n",
      "A value is trying to be set on a copy of a slice from a DataFrame.\n",
      "Try using .loc[row_indexer,col_indexer] = value instead\n",
      "\n",
      "See the caveats in the documentation: http://pandas.pydata.org/pandas-docs/stable/user_guide/indexing.html#returning-a-view-versus-a-copy\n",
      "  self.obj[item] = s\n",
      "C:\\Users\\Mouth\\Anaconda3\\lib\\site-packages\\ipykernel_launcher.py:17: SettingWithCopyWarning: \n",
      "A value is trying to be set on a copy of a slice from a DataFrame.\n",
      "Try using .loc[row_indexer,col_indexer] = value instead\n",
      "\n",
      "See the caveats in the documentation: http://pandas.pydata.org/pandas-docs/stable/user_guide/indexing.html#returning-a-view-versus-a-copy\n",
      "C:\\Users\\Mouth\\Anaconda3\\lib\\site-packages\\ipykernel_launcher.py:18: SettingWithCopyWarning: \n",
      "A value is trying to be set on a copy of a slice from a DataFrame.\n",
      "Try using .loc[row_indexer,col_indexer] = value instead\n",
      "\n",
      "See the caveats in the documentation: http://pandas.pydata.org/pandas-docs/stable/user_guide/indexing.html#returning-a-view-versus-a-copy\n",
      "C:\\Users\\Mouth\\Anaconda3\\lib\\site-packages\\ipykernel_launcher.py:19: SettingWithCopyWarning: \n",
      "A value is trying to be set on a copy of a slice from a DataFrame.\n",
      "Try using .loc[row_indexer,col_indexer] = value instead\n",
      "\n",
      "See the caveats in the documentation: http://pandas.pydata.org/pandas-docs/stable/user_guide/indexing.html#returning-a-view-versus-a-copy\n",
      "C:\\Users\\Mouth\\Anaconda3\\lib\\site-packages\\ipykernel_launcher.py:20: SettingWithCopyWarning: \n",
      "A value is trying to be set on a copy of a slice from a DataFrame.\n",
      "Try using .loc[row_indexer,col_indexer] = value instead\n",
      "\n",
      "See the caveats in the documentation: http://pandas.pydata.org/pandas-docs/stable/user_guide/indexing.html#returning-a-view-versus-a-copy\n",
      "C:\\Users\\Mouth\\Anaconda3\\lib\\site-packages\\ipykernel_launcher.py:21: SettingWithCopyWarning: \n",
      "A value is trying to be set on a copy of a slice from a DataFrame.\n",
      "Try using .loc[row_indexer,col_indexer] = value instead\n",
      "\n",
      "See the caveats in the documentation: http://pandas.pydata.org/pandas-docs/stable/user_guide/indexing.html#returning-a-view-versus-a-copy\n"
     ]
    }
   ],
   "source": [
    "from sklearn import preprocessing\n",
    "labelencoder = LabelEncoder()\n",
    "import pandas as pd\n",
    "import numpy as np\n",
    "train = pd.read_csv('train.csv')\n",
    "data = pd.read_csv('test.csv')\n",
    "\n",
    "train_df = pd.DataFrame(train)\n",
    "data_df = pd.DataFrame(data)\n",
    "drop_train=train_df.dropna()\n",
    "drop_data = data_df.dropna()\n",
    "#訓練測資的預處理\n",
    "#日期只取月份\n",
    "for i in range(0,drop_train.shape[0]):\n",
    "    drop_train.iloc[i,0]=int(drop_train.iloc[i,0].split('-')[1])\n",
    "drop_train['Attribute8'] = labelencoder.fit_transform(drop_train['Attribute8'])\n",
    "drop_train['Attribute10'] = labelencoder.fit_transform(drop_train['Attribute10'])\n",
    "drop_train['Attribute11'] = labelencoder.fit_transform(drop_train['Attribute11'])\n",
    "drop_train['Attribute22'] = labelencoder.fit_transform(drop_train['Attribute22'])\n",
    "drop_train['Attribute23'] = labelencoder.fit_transform(drop_train['Attribute23'])\n",
    "\n",
    "#測試的預處理\n",
    "for i in range(0,drop_data.shape[0]):\n",
    "    drop_data.iloc[i,0]=int(drop_data.iloc[i,0].split('-')[1])\n",
    "drop_data['Attribute8'] = labelencoder.fit_transform(drop_data['Attribute8'])\n",
    "drop_data['Attribute10'] = labelencoder.fit_transform(drop_data['Attribute10'])\n",
    "drop_data['Attribute11'] = labelencoder.fit_transform(drop_data['Attribute11'])\n",
    "drop_data['Attribute22'] = labelencoder.fit_transform(drop_data['Attribute22'])\n",
    "\n",
    "\n",
    "#模型\n",
    "import sklearn.linear_model as sk_linear\n",
    "model=sk_linear.LinearRegression(fit_intercept=True,normalize=False,copy_X=True,n_jobs=1)\n",
    "x=drop_train.drop(['Attribute23'],axis=1)\n",
    "y=drop_train['Attribute23'].values\n",
    "model.fit(x,y)\n",
    "drop_data['Attribute23'] = model.predict(drop_data)\n",
    "lis = [0.0]\n",
    "lis2 = [0]\n",
    "for i in range(1,drop_data.shape[0]):\n",
    "    lis.append(float(i))\n",
    "    if drop_data.iloc[i,22]>=0.26:\n",
    "        lis2.append(1)\n",
    "    else :\n",
    "        lis2.append(0)\n",
    "    \n",
    "df = pd.DataFrame(list(zip(lis, lis2)), columns =['id', 'ans']) \n",
    "\n",
    "df.to_csv('linear2.csv',index=False)\n",
    "\n"
   ]
  },
  {
   "cell_type": "code",
   "execution_count": 44,
   "metadata": {},
   "outputs": [],
   "source": [
    "# import sklearn.naive_bayes as sk_bayes\n",
    "# model = sk_bayes.GaussianNB()\n",
    "# x=drop_train.drop(['Attribute23'],axis=1)\n",
    "# y=drop_train['Attribute23'].values\n",
    "# model.fit(x,y)\n",
    "# drop_data['Attribute23'] = model.predict(drop_data)\n",
    "# lis = [0.0]\n",
    "# lis2 = [drop_data.iloc[0,22]]\n",
    "# for i in range(1,drop_data.shape[0]):\n",
    "#     lis.append(float(i))\n",
    "#     lis2.append(drop_data.iloc[i,22])\n",
    "    \n",
    "# df=pd.DataFrame(list(zip(lis, lis2)), columns =['id', 'ans']) \n",
    "\n",
    "# print(df)\n",
    "# df.to_csv('out.csv',index=False)"
   ]
  },
  {
   "cell_type": "code",
   "execution_count": null,
   "metadata": {},
   "outputs": [],
   "source": []
  },
  {
   "cell_type": "code",
   "execution_count": null,
   "metadata": {},
   "outputs": [],
   "source": []
  }
 ],
 "metadata": {
  "kernelspec": {
   "display_name": "Python 3",
   "language": "python",
   "name": "python3"
  },
  "language_info": {
   "codemirror_mode": {
    "name": "ipython",
    "version": 3
   },
   "file_extension": ".py",
   "mimetype": "text/x-python",
   "name": "python",
   "nbconvert_exporter": "python",
   "pygments_lexer": "ipython3",
   "version": "3.7.4"
  }
 },
 "nbformat": 4,
 "nbformat_minor": 2
}
